{
 "cells": [
  {
   "cell_type": "markdown",
   "metadata": {},
   "source": [
    "# Remaning Useful Life Estimation using TSFEL"
   ]
  },
  {
   "cell_type": "markdown",
   "metadata": {},
   "source": [
    "On this example we will perform a Remaning Useful Life (RUL) estimation using our library Time Series Feature Extraction Library. <br><br>\n",
    "To perform this example every cell must be executed. To do so click run ([ ]) in the top left of every cell. <br>\n",
    "\n",
    "The first step consists of importing the library. To do that press play.\n",
    "\n",
    "The import can take a few seconds, but the run button will change so that you know the import has started and ended.\n",
    "\n",
    "A warning will appear to reset all runtimes before running, click to accept.\n"
   ]
  },
  {
   "cell_type": "code",
   "execution_count": 6,
   "metadata": {},
   "outputs": [
    {
     "name": "stdout",
     "output_type": "stream",
     "text": [
      "Collecting https://github.com/fraunhoferportugal/tsfel/archive/v0.1.4.zip\n",
      "  Using cached https://github.com/fraunhoferportugal/tsfel/archive/v0.1.4.zip\n",
      "Requirement already satisfied: Sphinx>=1.8.5 in c:\\users\\bleic\\anaconda3\\lib\\site-packages (from tsfel==0.1.4) (2.4.0)\n",
      "Requirement already satisfied: gspread>=3.1.0 in c:\\users\\bleic\\anaconda3\\lib\\site-packages (from tsfel==0.1.4) (3.6.0)\n",
      "Requirement already satisfied: ipython>=7.4.0 in c:\\users\\bleic\\anaconda3\\lib\\site-packages (from tsfel==0.1.4) (7.12.0)\n",
      "Requirement already satisfied: numpy>=1.18.5 in c:\\users\\bleic\\anaconda3\\lib\\site-packages (from tsfel==0.1.4) (1.19.5)\n",
      "Requirement already satisfied: oauth2client>=4.1.3 in c:\\users\\bleic\\anaconda3\\lib\\site-packages (from tsfel==0.1.4) (4.1.3)\n",
      "Requirement already satisfied: pandas>=0.25.3 in c:\\users\\bleic\\anaconda3\\lib\\site-packages (from tsfel==0.1.4) (1.0.1)\n",
      "Requirement already satisfied: scipy>=1.5.1 in c:\\users\\bleic\\anaconda3\\lib\\site-packages (from tsfel==0.1.4) (1.5.4)\n",
      "Requirement already satisfied: setuptools>=47.1.1 in c:\\users\\bleic\\anaconda3\\lib\\site-packages (from tsfel==0.1.4) (50.3.2)\n",
      "Requirement already satisfied: google-auth>=1.12.0 in c:\\users\\bleic\\anaconda3\\lib\\site-packages (from gspread>=3.1.0->tsfel==0.1.4) (1.14.1)\n",
      "Requirement already satisfied: google-auth-oauthlib>=0.4.1 in c:\\users\\bleic\\anaconda3\\lib\\site-packages (from gspread>=3.1.0->tsfel==0.1.4) (0.4.1)\n",
      "Requirement already satisfied: requests>=2.2.1 in c:\\users\\bleic\\anaconda3\\lib\\site-packages (from gspread>=3.1.0->tsfel==0.1.4) (2.22.0)\n",
      "Requirement already satisfied: rsa<4.1,>=3.1.4 in c:\\users\\bleic\\anaconda3\\lib\\site-packages (from google-auth>=1.12.0->gspread>=3.1.0->tsfel==0.1.4) (4.0)\n",
      "Requirement already satisfied: six>=1.9.0 in c:\\users\\bleic\\anaconda3\\lib\\site-packages (from google-auth>=1.12.0->gspread>=3.1.0->tsfel==0.1.4) (1.15.0)\n",
      "Requirement already satisfied: cachetools<5.0,>=2.0.0 in c:\\users\\bleic\\anaconda3\\lib\\site-packages (from google-auth>=1.12.0->gspread>=3.1.0->tsfel==0.1.4) (4.1.0)\n",
      "Requirement already satisfied: pyasn1-modules>=0.2.1 in c:\\users\\bleic\\anaconda3\\lib\\site-packages (from google-auth>=1.12.0->gspread>=3.1.0->tsfel==0.1.4) (0.2.8)\n",
      "Requirement already satisfied: requests-oauthlib>=0.7.0 in c:\\users\\bleic\\anaconda3\\lib\\site-packages (from google-auth-oauthlib>=0.4.1->gspread>=3.1.0->tsfel==0.1.4) (1.3.0)\n",
      "Requirement already satisfied: pickleshare in c:\\users\\bleic\\anaconda3\\lib\\site-packages (from ipython>=7.4.0->tsfel==0.1.4) (0.7.5)\n",
      "Requirement already satisfied: backcall in c:\\users\\bleic\\anaconda3\\lib\\site-packages (from ipython>=7.4.0->tsfel==0.1.4) (0.1.0)\n",
      "Requirement already satisfied: jedi>=0.10 in c:\\users\\bleic\\anaconda3\\lib\\site-packages (from ipython>=7.4.0->tsfel==0.1.4) (0.14.1)\n",
      "Requirement already satisfied: traitlets>=4.2 in c:\\users\\bleic\\anaconda3\\lib\\site-packages (from ipython>=7.4.0->tsfel==0.1.4) (4.3.3)\n",
      "Requirement already satisfied: colorama in c:\\users\\bleic\\appdata\\roaming\\python\\python38\\site-packages (from ipython>=7.4.0->tsfel==0.1.4) (0.4.3)\n",
      "Requirement already satisfied: pygments in c:\\users\\bleic\\anaconda3\\lib\\site-packages (from ipython>=7.4.0->tsfel==0.1.4) (2.5.2)\n",
      "Requirement already satisfied: prompt-toolkit!=3.0.0,!=3.0.1,<3.1.0,>=2.0.0 in c:\\users\\bleic\\anaconda3\\lib\\site-packages (from ipython>=7.4.0->tsfel==0.1.4) (3.0.3)\n",
      "Requirement already satisfied: decorator in c:\\users\\bleic\\anaconda3\\lib\\site-packages (from ipython>=7.4.0->tsfel==0.1.4) (4.4.1)\n",
      "Requirement already satisfied: parso>=0.5.0 in c:\\users\\bleic\\anaconda3\\lib\\site-packages (from jedi>=0.10->ipython>=7.4.0->tsfel==0.1.4) (0.5.2)\n",
      "Requirement already satisfied: pyasn1>=0.1.7 in c:\\users\\bleic\\anaconda3\\lib\\site-packages (from oauth2client>=4.1.3->tsfel==0.1.4) (0.4.8)\n",
      "Requirement already satisfied: httplib2>=0.9.1 in c:\\users\\bleic\\anaconda3\\lib\\site-packages (from oauth2client>=4.1.3->tsfel==0.1.4) (0.18.1)\n",
      "Requirement already satisfied: python-dateutil>=2.6.1 in c:\\users\\bleic\\anaconda3\\lib\\site-packages (from pandas>=0.25.3->tsfel==0.1.4) (2.8.1)\n",
      "Requirement already satisfied: pytz>=2017.2 in c:\\users\\bleic\\anaconda3\\lib\\site-packages (from pandas>=0.25.3->tsfel==0.1.4) (2019.3)\n",
      "Requirement already satisfied: wcwidth in c:\\users\\bleic\\anaconda3\\lib\\site-packages (from prompt-toolkit!=3.0.0,!=3.0.1,<3.1.0,>=2.0.0->ipython>=7.4.0->tsfel==0.1.4) (0.1.8)\n",
      "Requirement already satisfied: urllib3!=1.25.0,!=1.25.1,<1.26,>=1.21.1 in c:\\users\\bleic\\anaconda3\\lib\\site-packages (from requests>=2.2.1->gspread>=3.1.0->tsfel==0.1.4) (1.25.8)\n",
      "Requirement already satisfied: certifi>=2017.4.17 in c:\\users\\bleic\\anaconda3\\lib\\site-packages (from requests>=2.2.1->gspread>=3.1.0->tsfel==0.1.4) (2019.11.28)\n",
      "Requirement already satisfied: idna<2.9,>=2.5 in c:\\users\\bleic\\anaconda3\\lib\\site-packages (from requests>=2.2.1->gspread>=3.1.0->tsfel==0.1.4) (2.8)\n",
      "Requirement already satisfied: chardet<3.1.0,>=3.0.2 in c:\\users\\bleic\\anaconda3\\lib\\site-packages (from requests>=2.2.1->gspread>=3.1.0->tsfel==0.1.4) (3.0.4)\n",
      "Requirement already satisfied: oauthlib>=3.0.0 in c:\\users\\bleic\\anaconda3\\lib\\site-packages (from requests-oauthlib>=0.7.0->google-auth-oauthlib>=0.4.1->gspread>=3.1.0->tsfel==0.1.4) (3.1.0)\n",
      "Requirement already satisfied: babel!=2.0,>=1.3 in c:\\users\\bleic\\anaconda3\\lib\\site-packages (from Sphinx>=1.8.5->tsfel==0.1.4) (2.8.0)\n",
      "Requirement already satisfied: alabaster<0.8,>=0.7 in c:\\users\\bleic\\anaconda3\\lib\\site-packages (from Sphinx>=1.8.5->tsfel==0.1.4) (0.7.12)\n",
      "Requirement already satisfied: imagesize in c:\\users\\bleic\\anaconda3\\lib\\site-packages (from Sphinx>=1.8.5->tsfel==0.1.4) (1.2.0)\n",
      "Requirement already satisfied: sphinxcontrib-htmlhelp in c:\\users\\bleic\\anaconda3\\lib\\site-packages (from Sphinx>=1.8.5->tsfel==0.1.4) (1.0.2)\n",
      "Requirement already satisfied: sphinxcontrib-qthelp in c:\\users\\bleic\\anaconda3\\lib\\site-packages (from Sphinx>=1.8.5->tsfel==0.1.4) (1.0.2)\n",
      "Requirement already satisfied: sphinxcontrib-devhelp in c:\\users\\bleic\\anaconda3\\lib\\site-packages (from Sphinx>=1.8.5->tsfel==0.1.4) (1.0.1)\n",
      "Requirement already satisfied: packaging in c:\\users\\bleic\\anaconda3\\lib\\site-packages (from Sphinx>=1.8.5->tsfel==0.1.4) (20.1)\n",
      "Requirement already satisfied: snowballstemmer>=1.1 in c:\\users\\bleic\\anaconda3\\lib\\site-packages (from Sphinx>=1.8.5->tsfel==0.1.4) (2.0.0)\n",
      "Requirement already satisfied: Jinja2>=2.3 in c:\\users\\bleic\\anaconda3\\lib\\site-packages (from Sphinx>=1.8.5->tsfel==0.1.4) (2.11.1)\n",
      "Requirement already satisfied: docutils>=0.12 in c:\\users\\bleic\\anaconda3\\lib\\site-packages (from Sphinx>=1.8.5->tsfel==0.1.4) (0.16)\n",
      "Requirement already satisfied: sphinxcontrib-serializinghtml in c:\\users\\bleic\\anaconda3\\lib\\site-packages (from Sphinx>=1.8.5->tsfel==0.1.4) (1.1.3)\n",
      "Requirement already satisfied: sphinxcontrib-applehelp in c:\\users\\bleic\\anaconda3\\lib\\site-packages (from Sphinx>=1.8.5->tsfel==0.1.4) (1.0.1)\n",
      "Requirement already satisfied: sphinxcontrib-jsmath in c:\\users\\bleic\\anaconda3\\lib\\site-packages (from Sphinx>=1.8.5->tsfel==0.1.4) (1.0.1)\n",
      "Requirement already satisfied: MarkupSafe>=0.23 in c:\\users\\bleic\\anaconda3\\lib\\site-packages (from Jinja2>=2.3->Sphinx>=1.8.5->tsfel==0.1.4) (1.1.1)\n",
      "Requirement already satisfied: ipython-genutils in c:\\users\\bleic\\anaconda3\\lib\\site-packages (from traitlets>=4.2->ipython>=7.4.0->tsfel==0.1.4) (0.2.0)\n",
      "Requirement already satisfied: pyparsing>=2.0.2 in c:\\users\\bleic\\anaconda3\\lib\\site-packages (from packaging->Sphinx>=1.8.5->tsfel==0.1.4) (2.4.6)\n",
      "Requirement already satisfied: wget in c:\\users\\bleic\\anaconda3\\lib\\site-packages (3.2)\n"
     ]
    }
   ],
   "source": [
    "import sys\n",
    "import os \n",
    "\n",
    "# Installation of last tsfel deployed version\n",
    "!pip install https://github.com/fraunhoferportugal/tsfel/archive/v0.1.4.zip\n",
    "sys.path.insert(0, './tsfel-development/')\n",
    "import tsfel\n",
    "\n",
    "import wget\n",
    "import zipfile\n",
    "\n",
    "import pandas as pd\n",
    "import numpy as np\n",
    "\n",
    "from matplotlib import pyplot as plt\n",
    "\n",
    "from sklearn.feature_selection import VarianceThreshold\n",
    "from sklearn import preprocessing\n",
    "from sklearn.model_selection import train_test_split, StratifiedKFold, RandomizedSearchCV, GridSearchCV\n",
    "from sklearn.metrics import mean_squared_error\n",
    "\n",
    "import xgboost"
   ]
  },
  {
   "cell_type": "markdown",
   "metadata": {},
   "source": [
    "## Auxiliary Methods"
   ]
  },
  {
   "cell_type": "code",
   "execution_count": 3,
   "metadata": {},
   "outputs": [],
   "source": [
    "def fill_missing_values(df):\n",
    "    \"\"\" Handle eventual missing data. Strategy: replace with mean.\n",
    "    \n",
    "      Parameters\n",
    "      ----------\n",
    "      df pandas DataFrame\n",
    "      Returns\n",
    "      -------\n",
    "        Data Frame without missing values.\n",
    "    \"\"\"\n",
    "    df.replace([np.inf, -np.inf], np.nan, inplace=True)\n",
    "    df.fillna(df.mean(), inplace=True)\n",
    "    return df\n",
    "\n",
    "def mean_absolute_percentage_error(y_true, y_pred): \n",
    "    \"\"\" Calculate mean absolute percentage error between prediction and real values.\n",
    "    \n",
    "        Parameters\n",
    "        -------\n",
    "        y_true : List with real (test) values.\n",
    "        y_pred : List with predicted values for some X\n",
    "        Returns\n",
    "        -------\n",
    "        value mean absolute percentage\n",
    "    \"\"\"\n",
    "    y_true, y_pred = np.array(y_true), np.array(y_pred)\n",
    "    return np.mean(np.abs((y_true - y_pred) / y_true)) * 100"
   ]
  },
  {
   "cell_type": "code",
   "execution_count": 4,
   "metadata": {},
   "outputs": [],
   "source": [
    "def read_cmapss_data(file_name):\n",
    "    \"\"\" Read data from C-MAPSS dataset. Since all files have the same structure, a function can be defined to simplify the process\n",
    "    \n",
    "        Parameters\n",
    "        -------\n",
    "        file_name : File name\n",
    "        Returns\n",
    "        -------\n",
    "        value mean absolute percentage\n",
    "    \"\"\"\n",
    "    \n",
    "    with open(file_name, \"r\") as file:\n",
    "        lines = [line.rstrip() for line in file]\n",
    "    return lines"
   ]
  },
  {
   "cell_type": "markdown",
   "metadata": {},
   "source": [
    "The current iteration of tsfel doesn't allow for an overlap of just under 100%, that is, to have windows starting at consecutive values. \n",
    "\n",
    "Therefore, we implement a function that does exactly that."
   ]
  },
  {
   "cell_type": "code",
   "execution_count": 5,
   "metadata": {},
   "outputs": [],
   "source": [
    "# x_train_window for maximum overlap \n",
    "def signal_window_complete_overlap(df, window_size):\n",
    "    \"\"\" window splitting, starting at consecutive values\n",
    "        Parameters\n",
    "        -------\n",
    "        df : Pandas Dataframe \n",
    "        window_size : Size of the \n",
    "        Returns\n",
    "        -------\n",
    "        list with dataframes generated through \n",
    "    \"\"\"\n",
    "    \n",
    "    data = []\n",
    "    for i in range(df.shape[0]-window_size+1):\n",
    "        data.append(df[i:i+window_size])\n",
    "    return data"
   ]
  },
  {
   "cell_type": "markdown",
   "metadata": {},
   "source": [
    "## Dataset"
   ]
  },
  {
   "cell_type": "markdown",
   "metadata": {},
   "source": [
    "The dataset used for this example is the NASA C-MAPSS (https://core.ac.uk/download/pdf/10539072.pdf) dataset. It's the result of several simulations of real-life large commercial turbofan engines. Several tests are performed under different operating conditions. Each test follows a certain number of cycles until engine failure. \n",
    "\n",
    "The main objective of this dataset is to predict the Remaining Useful Life of an engine, using sensor measurements of several physical variables, such as temperature, pressure and fan speed.\n",
    "\n",
    "\n",
    "It is particularly suited as an example for the capabilities of TSFEL for regression, since it requires us to predict a value for the RUL."
   ]
  },
  {
   "cell_type": "markdown",
   "metadata": {},
   "source": [
    "Get Nasa C-MAPSS dataset"
   ]
  },
  {
   "cell_type": "code",
   "execution_count": 8,
   "metadata": {},
   "outputs": [
    {
     "name": "stdout",
     "output_type": "stream",
     "text": [
      "100% [........................................................................] 12425978 / 12425978"
     ]
    },
    {
     "data": {
      "text/plain": [
       "'CMAPSSData.zip'"
      ]
     },
     "execution_count": 8,
     "metadata": {},
     "output_type": "execute_result"
    }
   ],
   "source": [
    "wget.download(\"https://ti.arc.nasa.gov/m/project/prognostic-repository/CMAPSSData.zip\")"
   ]
  },
  {
   "cell_type": "code",
   "execution_count": 11,
   "metadata": {},
   "outputs": [],
   "source": [
    "zip_ref = zipfile.ZipFile(\"CMAPSSData.zip\", 'r')\n",
    "zip_ref.extractall(\"C-MAPSS-Data\")\n",
    "zip_ref.close()"
   ]
  },
  {
   "cell_type": "markdown",
   "metadata": {},
   "source": [
    "### Read train, test and RUL data from file"
   ]
  },
  {
   "cell_type": "code",
   "execution_count": 12,
   "metadata": {},
   "outputs": [],
   "source": [
    "lines_train = read_cmapss_data(\"./C-MAPSS-Data/train_FD001.txt\")\n",
    "lines_test = read_cmapss_data(\"./C-MAPSS-Data/test_FD001.txt\")\n",
    "lines_rul = [int(i) for i in read_cmapss_data(\"./C-MAPSS-Data/RUL_FD001.txt\")]"
   ]
  },
  {
   "cell_type": "code",
   "execution_count": 13,
   "metadata": {},
   "outputs": [],
   "source": [
    "train = [line.split(\" \") for line in lines_train]\n",
    "test = [line.split(\" \") for line in lines_test]"
   ]
  },
  {
   "cell_type": "markdown",
   "metadata": {},
   "source": [
    "### Data cleanup"
   ]
  },
  {
   "cell_type": "markdown",
   "metadata": {},
   "source": [
    "#### Define Overlap for windows "
   ]
  },
  {
   "cell_type": "code",
   "execution_count": 14,
   "metadata": {},
   "outputs": [],
   "source": [
    "overlap = 0.9\n",
    "window_size = 30"
   ]
  },
  {
   "cell_type": "code",
   "execution_count": 15,
   "metadata": {},
   "outputs": [],
   "source": [
    "# Move all data to dataframes\n",
    "cols = [\"id\", \"cycles\", \"setting1\", \"setting2\", \"setting3\"]\n",
    "\n",
    "for i in range(5, len(train[0])):\n",
    "    cols.append(\"sensor\" + str(i-5))\n",
    "\n",
    "# Convert data to dataframes\n",
    "data_train = pd.DataFrame(train, columns = cols)\n",
    "data_test = pd.DataFrame(test, columns = cols)\n",
    "\n",
    "# Convert columns to numeric\n",
    "data_train[data_train.columns] = data_train[data_train.columns].apply(pd.to_numeric, errors='coerce', axis=1, downcast = \"integer\")\n",
    "data_test[data_test.columns] = data_test[data_test.columns].apply(pd.to_numeric, errors='coerce', axis=1, downcast = \"integer\")"
   ]
  },
  {
   "cell_type": "markdown",
   "metadata": {},
   "source": [
    "### Visualization"
   ]
  },
  {
   "cell_type": "code",
   "execution_count": 16,
   "metadata": {},
   "outputs": [
    {
     "data": {
      "image/png": "[encoded data removed]",
      "text/plain": [
       "<Figure size 432x288 with 1 Axes>"
      ]
     },
     "metadata": {
      "needs_background": "dark"
     },
     "output_type": "display_data"
    },
    {
     "data": {
      "image/png": "[encoded data removed]",
      "text/plain": [
       "<Figure size 432x288 with 1 Axes>"
      ]
     },
     "metadata": {
      "needs_background": "dark"
     },
     "output_type": "display_data"
    }
   ],
   "source": [
    "%matplotlib inline\n",
    "params = {\"ytick.color\" : \"w\",\n",
    "          \"xtick.color\" : \"w\",\n",
    "          \"axes.labelcolor\" : \"w\",\n",
    "          \"axes.edgecolor\" : \"w\",\n",
    "         \"text.color\" : \"w\",\n",
    "         \"legend.facecolor\" : \"w\"}\n",
    "plt.rcParams.update(params)\n",
    "\n",
    "ids = [1,2,3,4]\n",
    "\n",
    "plt.figure()\n",
    "plt.subplot(1,1,1)\n",
    "[plt.plot(data_train[data_train[\"id\"] == i][\"cycles\"], data_train[data_train[\"id\"] == i][\"sensor13\"]) for i in ids]\n",
    "plt.xlabel(\"Cycles\")\n",
    "plt.ylabel(\"Fan flow (pps)\")\n",
    "plt.title(\"Sensor Value with increasing cycles\")\n",
    "legend = plt.legend(ids)\n",
    "plt.setp(legend.get_texts(), color='black')\n",
    "plt.show()\n",
    "\n",
    "plt.subplot(1,1,1)\n",
    "[plt.plot(data_train[data_train[\"id\"] == i][\"cycles\"], data_train[data_train[\"id\"] == i][\"sensor3\"]) for i in ids]\n",
    "plt.xlabel(\"Cycles\")\n",
    "plt.ylabel(\"Total pressure at LPC outlet (psia)\")\n",
    "plt.title(\"Sensor Value with increasing cycles\")\n",
    "legend = plt.legend(ids)\n",
    "plt.setp(legend.get_texts(), color='black')\n",
    "plt.show()"
   ]
  },
  {
   "cell_type": "markdown",
   "metadata": {},
   "source": [
    "### Separate Dataframe by experiment"
   ]
  },
  {
   "cell_type": "code",
   "execution_count": 17,
   "metadata": {},
   "outputs": [],
   "source": [
    "x_train_sig_no_overlap = [data_train[data_train[\"id\"] == i+1].drop([\"id\"], axis = 1) for i in range(int(max(set(list(data_train[\"id\"])))))]\n",
    "x_test_sig_no_overlap = [data_test[data_test[\"id\"] == i+1].drop([\"id\"], axis = 1) for i in range(int(max(set(list(data_test[\"id\"])))))]\n",
    "\n",
    "# Number of cycles for each training and test experiment\n",
    "nr_cycles_train = [df.shape[0] for df in x_train_sig_no_overlap]\n",
    "nr_cycles_test = [df.shape[0] for df in x_test_sig_no_overlap]"
   ]
  },
  {
   "cell_type": "markdown",
   "metadata": {},
   "source": [
    "### Create training and test instances using time windows"
   ]
  },
  {
   "cell_type": "markdown",
   "metadata": {},
   "source": [
    "#### Train"
   ]
  },
  {
   "cell_type": "code",
   "execution_count": 18,
   "metadata": {},
   "outputs": [],
   "source": [
    "X_train_sig = []\n",
    "y_train = []\n",
    "\n",
    "for i in range(len(x_train_sig_no_overlap)):\n",
    "    x_train_create_overlaps = x_train_sig_no_overlap[i]\n",
    "    \n",
    "    # Allow for complete overlap \n",
    "    if overlap == 1:\n",
    "        x_train_window = signal_window_complete_overlap(x_train_create_overlaps, window_size)    \n",
    "    else:\n",
    "        x_train_window = tsfel.signal_window_splitter(x_train_create_overlaps, window_size = window_size, overlap = overlap)\n",
    "    \n",
    "    for data in x_train_window:\n",
    "        X_train_sig.append(data)\n",
    "        y_train.append(nr_cycles_train[i] - data.iloc[-1,0])\n",
    "    \n",
    "X_train_sig = [i.drop(columns = [\"cycles\"], axis = 1) for i in X_train_sig]"
   ]
  },
  {
   "cell_type": "markdown",
   "metadata": {},
   "source": [
    "#### Test"
   ]
  },
  {
   "cell_type": "code",
   "execution_count": 19,
   "metadata": {},
   "outputs": [],
   "source": [
    "X_test_sig = []\n",
    "y_test = []\n",
    "\n",
    "for i in range(len(x_test_sig_no_overlap)):\n",
    "    x_test_create_overlaps = x_test_sig_no_overlap[i]\n",
    "    # Allow for complete overlap \n",
    "    if overlap == 1:\n",
    "        x_test_window = signal_window_complete_overlap(x_test_create_overlaps, window_size)    \n",
    "    else:\n",
    "        x_test_window = tsfel.signal_window_splitter(x_test_create_overlaps, window_size = window_size, overlap = overlap)\n",
    "    \n",
    "    for data in x_test_window:\n",
    "        X_test_sig.append(data)\n",
    "        y_test.append(nr_cycles_test[i] - data.iloc[-1,0] + lines_rul[i])\n",
    "    \n",
    "X_test_sig = [i.drop(columns = [\"cycles\"], axis = 1) for i in X_test_sig]"
   ]
  },
  {
   "cell_type": "markdown",
   "metadata": {},
   "source": [
    "### Feature extraction through TSFEL"
   ]
  },
  {
   "cell_type": "markdown",
   "metadata": {},
   "source": [
    "Through Feature Extraction methodologies, the data is translated into a feature vector containing information about the signal properties of each window. These properties can be classified according to their domain as Time, Frequency and Statistical features and allow to characterise the signal compactly, enhancing its characteristics. This features will be used as input to the machine learning classifier, thus, the chosen set of features can strongly influence the classification output.\n",
    "\n",
    "The features to extract are defined in the [google sheet](https://docs.google.com/spreadsheets/d/13u7L_5IX3XxFuq_SnbOZF1dXQfcBB0wR3PXhvevhPYA/edit?usp=sharing). Save a copy on your local drive and share it with featext@featext.iam.gserviceaccount.com.\n",
    "\n",
    "Change your google sheet file name and the googleSheet_name variable to your name so both have the same name."
   ]
  },
  {
   "cell_type": "code",
   "execution_count": 28,
   "metadata": {
    "scrolled": true
   },
   "outputs": [
    {
     "name": "stdout",
     "output_type": "stream",
     "text": [
      "*** Feature extraction started ***\n"
     ]
    },
    {
     "data": {
      "text/html": [
       "\n",
       "              <p>\n",
       "                  Progress: 100% Complete\n",
       "              <p/>            \n",
       "              <progress\n",
       "                  value='5947'\n",
       "                  max='5947',\n",
       "                  style='width: 25%',\n",
       "              >\n",
       "                  5947\n",
       "              </progress>\n",
       "\n",
       "    "
      ],
      "text/plain": [
       "<IPython.core.display.HTML object>"
      ]
     },
     "metadata": {},
     "output_type": "display_data"
    },
    {
     "name": "stdout",
     "output_type": "stream",
     "text": [
      "\n",
      "*** Feature extraction finished ***\n",
      "*** Feature extraction started ***\n"
     ]
    },
    {
     "data": {
      "text/html": [
       "\n",
       "              <p>\n",
       "                  Progress: 100% Complete\n",
       "              <p/>            \n",
       "              <progress\n",
       "                  value='3433'\n",
       "                  max='3433',\n",
       "                  style='width: 25%',\n",
       "              >\n",
       "                  3433\n",
       "              </progress>\n",
       "\n",
       "    "
      ],
      "text/plain": [
       "<IPython.core.display.HTML object>"
      ]
     },
     "metadata": {},
     "output_type": "display_data"
    },
    {
     "name": "stdout",
     "output_type": "stream",
     "text": [
      "\n",
      "*** Feature extraction finished ***\n"
     ]
    }
   ],
   "source": [
    "googleSheet_name = \"Features_dev_cmapss\"\n",
    "cfg = tsfel.extract_sheet(googleSheet_name)\n",
    "\n",
    "X_train = tsfel.time_series_features_extractor(cfg, X_train_sig, fs = 1, n_jobs = 8)\n",
    "X_test = tsfel.time_series_features_extractor(cfg, X_test_sig, fs = 1, n_jobs = 8)"
   ]
  },
  {
   "cell_type": "markdown",
   "metadata": {},
   "source": [
    "Y labels are corrected to account for the fact that RUL is hard to determine for values above 125. <br>\n",
    "A piecewise approximation is used in this case, with the target variable capped at 125. (Al-Dulaimi et al. [2019])<br>\n",
    "That is: <br>\n",
    "$ Y_{train/test} = Y_{actual}  $ if  $   Y_{actual} < 125$ <br>\n",
    "$Y_{train/test} = 125, otherwise$"
   ]
  },
  {
   "cell_type": "code",
   "execution_count": 29,
   "metadata": {},
   "outputs": [],
   "source": [
    "y_train = [min(i, 125) for i in y_train]\n",
    "y_test = [min(i, 125) for i in y_test]"
   ]
  },
  {
   "cell_type": "markdown",
   "metadata": {},
   "source": [
    "### Data Cleanup"
   ]
  },
  {
   "cell_type": "code",
   "execution_count": 30,
   "metadata": {},
   "outputs": [],
   "source": [
    "X_train = fill_missing_values(X_train)\n",
    "X_test = fill_missing_values(X_test)\n",
    "\n",
    "nan_cols_train = [i for i in X_train.columns if X_train[i].isnull().any()]\n",
    "X_train = X_train.drop(nan_cols_train, axis = 1)\n",
    "X_test = X_test.drop(nan_cols_train, axis = 1)\n",
    "\n",
    "X_train = X_train[X_test.columns]"
   ]
  },
  {
   "cell_type": "markdown",
   "metadata": {},
   "source": [
    "Clean all features that are highly correlated with one another, as well as features with low variance, that should not help train the model.<br>\n",
    "This uses the library's <i>correlated_features</i> function, as well as funcions from the sklearn package."
   ]
  },
  {
   "cell_type": "code",
   "execution_count": 31,
   "metadata": {},
   "outputs": [],
   "source": [
    "# Highly correlated features are removed\n",
    "corr_features = tsfel.correlated_features(X_train)\n",
    "X_train.drop(corr_features, axis=1, inplace=True)\n",
    "X_test.drop(corr_features, axis=1, inplace=True)\n",
    "\n",
    "# Remove low variance features\n",
    "selector = VarianceThreshold()\n",
    "X_train = selector.fit_transform(X_train)\n",
    "X_test = selector.transform(X_test)\n",
    "\n",
    "# Normalising Features\n",
    "min_max_scaler = preprocessing.StandardScaler()\n",
    "X_train = min_max_scaler.fit_transform(X_train)\n",
    "X_test = min_max_scaler.transform(X_test)"
   ]
  },
  {
   "cell_type": "markdown",
   "metadata": {},
   "source": [
    "### PCA decomposition to remove amount of features\n",
    "Due to the high amount of features that are generated by tsfel, especially for signal windows with high overlaps, a Principal Component Analysis decomposition is performed to retain a smaller percentage of variance and prevent overfitting\n",
    "\n",
    "This was found to increase the quality of the prediction, especially in the case of high window overlap values.\n",
    "\n",
    "(Don't use it if you want to be able to identify the most important features for the model after training.)"
   ]
  },
  {
   "cell_type": "code",
   "execution_count": 32,
   "metadata": {
    "scrolled": true
   },
   "outputs": [
    {
     "name": "stdout",
     "output_type": "stream",
     "text": [
      "Total explained variance: 0.9996232725412462\n"
     ]
    }
   ],
   "source": [
    "from sklearn.decomposition import PCA\n",
    "\n",
    "pca = PCA(n_components = 1000)\n",
    "\n",
    "X_train = pca.fit_transform(X_train)\n",
    "X_test = pca.transform(X_test)\n",
    "print(f\"Total explained variance: {sum(pca.explained_variance_ratio_)}\")"
   ]
  },
  {
   "cell_type": "markdown",
   "metadata": {},
   "source": [
    "### Model training"
   ]
  },
  {
   "cell_type": "markdown",
   "metadata": {},
   "source": [
    "#### XGBoost\n",
    "\n",
    "In this example, the regression is performed by an XGBoost model, which, at the time of writing, is one of the top performing libraries to implement gradient boosting machines."
   ]
  },
  {
   "cell_type": "markdown",
   "metadata": {},
   "source": [
    "#### Hyperparameter tuning\n",
    "The model's hyperparameters are tuned using a Randomized Search, alongside a stratified k-fold division, to ensure appropriate train/test division <br>\n",
    "Since it takes some time to run (around 30 minutes for the current configuration), we suggest skipping this part and using the already tuned parameters"
   ]
  },
  {
   "cell_type": "code",
   "execution_count": null,
   "metadata": {
    "scrolled": true
   },
   "outputs": [
    {
     "name": "stdout",
     "output_type": "stream",
     "text": [
      "Fitting 5 folds for each of 60 candidates, totalling 300 fits\n"
     ]
    },
    {
     "name": "stderr",
     "output_type": "stream",
     "text": [
      "[Parallel(n_jobs=10)]: Using backend LokyBackend with 10 concurrent workers.\n",
      "[Parallel(n_jobs=10)]: Done  30 tasks      | elapsed: 25.3min\n"
     ]
    }
   ],
   "source": [
    "params = {\n",
    "    #\"num_boost_round\" : [10,25,50],\n",
    "    \"subsample\" : [0.4,0.6,0.8,1.0],\n",
    "    \"colsaple_bytree\" : [0.2, 0.4,0.6,0.8,1.0],\n",
    "    \"max_depth\" : [2,3,4,5,6,7,8],\n",
    "    'eta' : [0.02, 0.05, 0.1, 0.2, 0.3],\n",
    "    \"scale_pos_weight\" : [1,2,5,10,50],\n",
    "    \"n_estimators\" : [100, 200, 300]\n",
    "}\n",
    "\n",
    "xgb = xgboost.XGBRegressor(silent=False, objective=\"reg:squarederror\")\n",
    "\n",
    "folds = 5\n",
    "param_comb = 60\n",
    "skf = StratifiedKFold(n_splits = folds, shuffle = True, random_state=1001)\n",
    "\n",
    "random_search = RandomizedSearchCV(xgb, param_distributions = params, n_iter = param_comb, n_jobs = 10, cv=skf.split(X_train ,Y_train), \n",
    "                                                                       verbose = 1, random_state = 1001)\n",
    "random_search.fit(X_train, Y_train)\n",
    "\n",
    "random_search.best_params_"
   ]
  },
  {
   "cell_type": "markdown",
   "metadata": {},
   "source": [
    "#### Model Training"
   ]
  },
  {
   "cell_type": "markdown",
   "metadata": {},
   "source": [
    "The following code trains the model, using a validation set obtained from the training dataset (90%-10%). The hyperparameters were chosen based on the hyperparameter tuning performed beforehand."
   ]
  },
  {
   "cell_type": "code",
   "execution_count": 36,
   "metadata": {
    "scrolled": true
   },
   "outputs": [
    {
     "name": "stdout",
     "output_type": "stream",
     "text": [
      "[17:02:40] WARNING: C:\\Users\\Administrator\\workspace\\xgboost-win64_release_1.2.0\\src\\learner.cc:516: \n",
      "Parameters: { njobs, verbose } might not be used.\n",
      "\n",
      "  This may not be accurate due to some parameters are only used in language bindings but\n",
      "  passed down to XGBoost core.  Or some parameters are not used but slip through this\n",
      "  verification. Please open an issue if you find above cases.\n",
      "\n",
      "\n",
      "[0]\tvalidation_0-rmse:86.98814\n",
      "Will train until validation_0-rmse hasn't improved in 10 rounds.\n",
      "[1]\tvalidation_0-rmse:82.83433\n",
      "[2]\tvalidation_0-rmse:78.88743\n",
      "[3]\tvalidation_0-rmse:75.18626\n",
      "[4]\tvalidation_0-rmse:71.61208\n",
      "[5]\tvalidation_0-rmse:68.25693\n",
      "[6]\tvalidation_0-rmse:65.06002\n",
      "[7]\tvalidation_0-rmse:62.02371\n",
      "[8]\tvalidation_0-rmse:59.13372\n",
      "[9]\tvalidation_0-rmse:56.40477\n",
      "[10]\tvalidation_0-rmse:53.80282\n",
      "[11]\tvalidation_0-rmse:51.37233\n",
      "[12]\tvalidation_0-rmse:49.02930\n",
      "[13]\tvalidation_0-rmse:46.84058\n",
      "[14]\tvalidation_0-rmse:44.74246\n",
      "[15]\tvalidation_0-rmse:42.78772\n",
      "[16]\tvalidation_0-rmse:40.95436\n",
      "[17]\tvalidation_0-rmse:39.18825\n",
      "[18]\tvalidation_0-rmse:37.52042\n",
      "[19]\tvalidation_0-rmse:35.96013\n",
      "[20]\tvalidation_0-rmse:34.47293\n",
      "[21]\tvalidation_0-rmse:33.07591\n",
      "[22]\tvalidation_0-rmse:31.74233\n",
      "[23]\tvalidation_0-rmse:30.48727\n",
      "[24]\tvalidation_0-rmse:29.32026\n",
      "[25]\tvalidation_0-rmse:28.20545\n",
      "[26]\tvalidation_0-rmse:27.16054\n",
      "[27]\tvalidation_0-rmse:26.18361\n",
      "[28]\tvalidation_0-rmse:25.26016\n",
      "[29]\tvalidation_0-rmse:24.37609\n",
      "[30]\tvalidation_0-rmse:23.57778\n",
      "[31]\tvalidation_0-rmse:22.80493\n",
      "[32]\tvalidation_0-rmse:22.11032\n",
      "[33]\tvalidation_0-rmse:21.45634\n",
      "[34]\tvalidation_0-rmse:20.83894\n",
      "[35]\tvalidation_0-rmse:20.26343\n",
      "[36]\tvalidation_0-rmse:19.71592\n",
      "[37]\tvalidation_0-rmse:19.22870\n",
      "[38]\tvalidation_0-rmse:18.72616\n",
      "[39]\tvalidation_0-rmse:18.25638\n",
      "[40]\tvalidation_0-rmse:17.80620\n",
      "[41]\tvalidation_0-rmse:17.41415\n",
      "[42]\tvalidation_0-rmse:17.06524\n",
      "[43]\tvalidation_0-rmse:16.69036\n",
      "[44]\tvalidation_0-rmse:16.38393\n",
      "[45]\tvalidation_0-rmse:16.07984\n",
      "[46]\tvalidation_0-rmse:15.80172\n",
      "[47]\tvalidation_0-rmse:15.55091\n",
      "[48]\tvalidation_0-rmse:15.32645\n",
      "[49]\tvalidation_0-rmse:15.09701\n",
      "[50]\tvalidation_0-rmse:14.85129\n",
      "[51]\tvalidation_0-rmse:14.67313\n",
      "[52]\tvalidation_0-rmse:14.49814\n",
      "[53]\tvalidation_0-rmse:14.33034\n",
      "[54]\tvalidation_0-rmse:14.19047\n",
      "[55]\tvalidation_0-rmse:14.00661\n",
      "[56]\tvalidation_0-rmse:13.84488\n",
      "[57]\tvalidation_0-rmse:13.74439\n",
      "[58]\tvalidation_0-rmse:13.62293\n",
      "[59]\tvalidation_0-rmse:13.53303\n",
      "[60]\tvalidation_0-rmse:13.42718\n",
      "[61]\tvalidation_0-rmse:13.34882\n",
      "[62]\tvalidation_0-rmse:13.26822\n",
      "[63]\tvalidation_0-rmse:13.18149\n",
      "[64]\tvalidation_0-rmse:13.11373\n",
      "[65]\tvalidation_0-rmse:13.01865\n",
      "[66]\tvalidation_0-rmse:12.93907\n",
      "[67]\tvalidation_0-rmse:12.91081\n",
      "[68]\tvalidation_0-rmse:12.86433\n",
      "[69]\tvalidation_0-rmse:12.81288\n",
      "[70]\tvalidation_0-rmse:12.77509\n",
      "[71]\tvalidation_0-rmse:12.74639\n",
      "[72]\tvalidation_0-rmse:12.68846\n",
      "[73]\tvalidation_0-rmse:12.63291\n",
      "[74]\tvalidation_0-rmse:12.59730\n",
      "[75]\tvalidation_0-rmse:12.58034\n",
      "[76]\tvalidation_0-rmse:12.55318\n",
      "[77]\tvalidation_0-rmse:12.52667\n",
      "[78]\tvalidation_0-rmse:12.46902\n",
      "[79]\tvalidation_0-rmse:12.43763\n",
      "[80]\tvalidation_0-rmse:12.40564\n",
      "[81]\tvalidation_0-rmse:12.37707\n",
      "[82]\tvalidation_0-rmse:12.34770\n",
      "[83]\tvalidation_0-rmse:12.32214\n",
      "[84]\tvalidation_0-rmse:12.29585\n",
      "[85]\tvalidation_0-rmse:12.25658\n",
      "[86]\tvalidation_0-rmse:12.21400\n",
      "[87]\tvalidation_0-rmse:12.18374\n",
      "[88]\tvalidation_0-rmse:12.16945\n",
      "[89]\tvalidation_0-rmse:12.13604\n",
      "[90]\tvalidation_0-rmse:12.11461\n",
      "[91]\tvalidation_0-rmse:12.08243\n",
      "[92]\tvalidation_0-rmse:12.06235\n",
      "[93]\tvalidation_0-rmse:12.05332\n",
      "[94]\tvalidation_0-rmse:12.02307\n",
      "[95]\tvalidation_0-rmse:12.00580\n",
      "[96]\tvalidation_0-rmse:11.98145\n",
      "[97]\tvalidation_0-rmse:11.97469\n",
      "[98]\tvalidation_0-rmse:11.95734\n",
      "[99]\tvalidation_0-rmse:11.96322\n",
      "[100]\tvalidation_0-rmse:11.94997\n",
      "[101]\tvalidation_0-rmse:11.94256\n",
      "[102]\tvalidation_0-rmse:11.92448\n",
      "[103]\tvalidation_0-rmse:11.91940\n",
      "[104]\tvalidation_0-rmse:11.90936\n",
      "[105]\tvalidation_0-rmse:11.89554\n",
      "[106]\tvalidation_0-rmse:11.88829\n",
      "[107]\tvalidation_0-rmse:11.87629\n",
      "[108]\tvalidation_0-rmse:11.86237\n",
      "[109]\tvalidation_0-rmse:11.86619\n",
      "[110]\tvalidation_0-rmse:11.86504\n",
      "[111]\tvalidation_0-rmse:11.85595\n",
      "[112]\tvalidation_0-rmse:11.85455\n",
      "[113]\tvalidation_0-rmse:11.84457\n",
      "[114]\tvalidation_0-rmse:11.83877\n",
      "[115]\tvalidation_0-rmse:11.82197\n",
      "[116]\tvalidation_0-rmse:11.82081\n",
      "[117]\tvalidation_0-rmse:11.80557\n",
      "[118]\tvalidation_0-rmse:11.79252\n",
      "[119]\tvalidation_0-rmse:11.80371\n",
      "[120]\tvalidation_0-rmse:11.81624\n",
      "[121]\tvalidation_0-rmse:11.81811\n",
      "[122]\tvalidation_0-rmse:11.81353\n",
      "[123]\tvalidation_0-rmse:11.80000\n",
      "[124]\tvalidation_0-rmse:11.79670\n",
      "[125]\tvalidation_0-rmse:11.78655\n",
      "[126]\tvalidation_0-rmse:11.78160\n",
      "[127]\tvalidation_0-rmse:11.77158\n",
      "[128]\tvalidation_0-rmse:11.76293\n",
      "[129]\tvalidation_0-rmse:11.76834\n",
      "[130]\tvalidation_0-rmse:11.76333\n",
      "[131]\tvalidation_0-rmse:11.76675\n",
      "[132]\tvalidation_0-rmse:11.76605\n",
      "[133]\tvalidation_0-rmse:11.75705\n",
      "[134]\tvalidation_0-rmse:11.74094\n",
      "[135]\tvalidation_0-rmse:11.72659\n",
      "[136]\tvalidation_0-rmse:11.72523\n",
      "[137]\tvalidation_0-rmse:11.71669\n",
      "[138]\tvalidation_0-rmse:11.71485\n",
      "[139]\tvalidation_0-rmse:11.71626\n",
      "[140]\tvalidation_0-rmse:11.71869\n",
      "[141]\tvalidation_0-rmse:11.71419\n",
      "[142]\tvalidation_0-rmse:11.70195\n",
      "[143]\tvalidation_0-rmse:11.68634\n",
      "[144]\tvalidation_0-rmse:11.68292\n",
      "[145]\tvalidation_0-rmse:11.68262\n",
      "[146]\tvalidation_0-rmse:11.68427\n",
      "[147]\tvalidation_0-rmse:11.68096\n",
      "[148]\tvalidation_0-rmse:11.67821\n",
      "[149]\tvalidation_0-rmse:11.67059\n",
      "[150]\tvalidation_0-rmse:11.67403\n",
      "[151]\tvalidation_0-rmse:11.66985\n",
      "[152]\tvalidation_0-rmse:11.66485\n",
      "[153]\tvalidation_0-rmse:11.65455\n",
      "[154]\tvalidation_0-rmse:11.65509\n",
      "[155]\tvalidation_0-rmse:11.64885\n",
      "[156]\tvalidation_0-rmse:11.64288\n",
      "[157]\tvalidation_0-rmse:11.63946\n",
      "[158]\tvalidation_0-rmse:11.64331\n",
      "[159]\tvalidation_0-rmse:11.64268\n",
      "[160]\tvalidation_0-rmse:11.64411\n",
      "[161]\tvalidation_0-rmse:11.64158\n",
      "[162]\tvalidation_0-rmse:11.64018\n",
      "[163]\tvalidation_0-rmse:11.63786\n",
      "[164]\tvalidation_0-rmse:11.63061\n",
      "[165]\tvalidation_0-rmse:11.63245\n",
      "[166]\tvalidation_0-rmse:11.62462\n",
      "[167]\tvalidation_0-rmse:11.62089\n",
      "[168]\tvalidation_0-rmse:11.61868\n",
      "[169]\tvalidation_0-rmse:11.61458\n",
      "[170]\tvalidation_0-rmse:11.61081\n",
      "[171]\tvalidation_0-rmse:11.60351\n",
      "[172]\tvalidation_0-rmse:11.59961\n",
      "[173]\tvalidation_0-rmse:11.60020\n",
      "[174]\tvalidation_0-rmse:11.59431\n",
      "[175]\tvalidation_0-rmse:11.59574\n",
      "[176]\tvalidation_0-rmse:11.59912\n",
      "[177]\tvalidation_0-rmse:11.59613\n",
      "[178]\tvalidation_0-rmse:11.59783\n",
      "[179]\tvalidation_0-rmse:11.59011\n",
      "[180]\tvalidation_0-rmse:11.58168\n",
      "[181]\tvalidation_0-rmse:11.57376\n",
      "[182]\tvalidation_0-rmse:11.56606\n",
      "[183]\tvalidation_0-rmse:11.56284\n",
      "[184]\tvalidation_0-rmse:11.56069\n",
      "[185]\tvalidation_0-rmse:11.55800\n",
      "[186]\tvalidation_0-rmse:11.55452\n",
      "[187]\tvalidation_0-rmse:11.55266\n",
      "[188]\tvalidation_0-rmse:11.54837\n",
      "[189]\tvalidation_0-rmse:11.54903\n",
      "[190]\tvalidation_0-rmse:11.55198\n",
      "[191]\tvalidation_0-rmse:11.54360\n",
      "[192]\tvalidation_0-rmse:11.54269\n",
      "[193]\tvalidation_0-rmse:11.54100\n",
      "[194]\tvalidation_0-rmse:11.54125\n",
      "[195]\tvalidation_0-rmse:11.54282\n",
      "[196]\tvalidation_0-rmse:11.54546\n",
      "[197]\tvalidation_0-rmse:11.53975\n",
      "[198]\tvalidation_0-rmse:11.54023\n",
      "[199]\tvalidation_0-rmse:11.54006\n"
     ]
    }
   ],
   "source": [
    "params = {'subsample': 0.6,\n",
    " 'scale_pos_weight': 10,\n",
    " 'n_estimators': 200,\n",
    " 'max_depth': 6,\n",
    " 'eta': 0.05,\n",
    " 'njobs' : 10,\n",
    " 'objective' : \"reg:squarederror\",\n",
    " 'verbose' : 1}\n",
    "\n",
    "xgb = xgboost.XGBModel(**params)\n",
    "\n",
    "X_train, X_validation, y_train, y_validation = train_test_split(X_train, y_train, test_size = 0.1, random_state = 123)\n",
    "\n",
    "bst = xgb.fit(X_train, y_train,\n",
    "             eval_metric = \"rmse\", early_stopping_rounds=10, eval_set=[(X_validation, y_validation)],\n",
    "             verbose = True)\n",
    "\n",
    "#xgboost.plot_importance(bst)"
   ]
  },
  {
   "cell_type": "markdown",
   "metadata": {},
   "source": [
    "### RESULTS"
   ]
  },
  {
   "cell_type": "markdown",
   "metadata": {},
   "source": [
    "#### Errors \n",
    "We analyze both the MAPE and the RMSE. In the literature, the RMSE, as well as a special scoring function (which is not presented here), are used.\n",
    "\n",
    "The most common RMSE values in the literature are around 12/13 for novel models:\n",
    "- DCNN: 12.61 (Ding et al. (2018) - https://doi.org/10.1016/j.ress.2017.11.021)\n",
    "- FMLP: 13.36 (Wang et al. (2019) - https://ieeexplore.ieee.org/stamp/stamp.jsp?tp=&arnumber=8819420)\n",
    "- Ensemble ResCNN: 12.16 (Wen et al. (2019) - https://www.aimspress.com/fileOther/PDF/MBE/mbe-16-02-040.pdf)"
   ]
  },
  {
   "cell_type": "code",
   "execution_count": 34,
   "metadata": {},
   "outputs": [
    {
     "data": {
      "image/png": "[encoded data removed]",
      "text/plain": [
       "<Figure size 432x288 with 1 Axes>"
      ]
     },
     "metadata": {
      "needs_background": "dark"
     },
     "output_type": "display_data"
    }
   ],
   "source": [
    "var_imp = bst.get_booster().get_score(importance_type=\"gain\")\n",
    "a = {k: v for k, v in sorted(var_imp.items(), key=lambda item:item[1])}\n",
    "\n",
    "x=list(a.keys())\n",
    "y=list(a.values())\n",
    "\n",
    "fig = plt.figure()\n",
    "ax = fig.add_axes([0,0,1,1])\n",
    "fig.autofmt_xdate()\n",
    "ax.bar(x[len(x)-10:len(x)], y[len(y)-10:len(y)])\n",
    "ax.tick_params(axis=\"x\", labelsize=10)\n",
    "plt.title(\"Variable importance\")\n",
    "plt.show()"
   ]
  },
  {
   "cell_type": "markdown",
   "metadata": {},
   "source": [
    "### Metrics"
   ]
  },
  {
   "cell_type": "code",
   "execution_count": 37,
   "metadata": {
    "scrolled": true
   },
   "outputs": [
    {
     "name": "stdout",
     "output_type": "stream",
     "text": [
      "With overlap 0.9:\n",
      "\n",
      "MAPE: 15.150342311306012\n",
      "\n",
      "RMSE: 17.141447428473256\n"
     ]
    }
   ],
   "source": [
    "y_test_predict = bst.predict(X_test)\n",
    "\n",
    "mape = mean_absolute_percentage_error(y_test_predict, y_test)\n",
    "rmse = mean_squared_error(y_test_predict, y_test, squared = False)\n",
    "print(f\"With overlap {overlap}:\\n\\nMAPE: {mape}\\n\\nRMSE: {rmse}\")"
   ]
  },
  {
   "cell_type": "markdown",
   "metadata": {},
   "source": [
    "Even when used with low overlap values, the resulting model offers results very close to the ones established in literature."
   ]
  },
  {
   "cell_type": "markdown",
   "metadata": {},
   "source": [
    "#### Comparison of real and predicted RUL"
   ]
  },
  {
   "cell_type": "code",
   "execution_count": 38,
   "metadata": {
    "scrolled": true
   },
   "outputs": [
    {
     "data": {
      "image/png": "[encoded data removed]",
      "text/plain": [
       "<Figure size 432x288 with 1 Axes>"
      ]
     },
     "metadata": {
      "needs_background": "dark"
     },
     "output_type": "display_data"
    }
   ],
   "source": [
    "signals_real = []\n",
    "signals_pred = []\n",
    "is_larger = [False] + [y_test[i+1] > y_test[i] for i in range(0, len(y_test)-1)]\n",
    "\n",
    "signals_real = []\n",
    "\n",
    "j = 0\n",
    "for i in range(len(y_test)):\n",
    "    if is_larger[i]:\n",
    "        j += 1\n",
    "    try:\n",
    "        signals_real[j]\n",
    "        signals_pred[j]\n",
    "    except:\n",
    "        signals_real.append([])\n",
    "        signals_pred.append([])\n",
    "        \n",
    "    signals_real[j].append(y_test[i])\n",
    "    signals_pred[j].append(y_test_predict[i])\n",
    "        \n",
    "sig = 22\n",
    "plt.figure()\n",
    "plt.subplot(1,1,1)\n",
    "plt.plot([i for i in range(len(signals_real[sig]))], signals_real[sig])\n",
    "plt.plot([i for i in range(len(signals_pred[sig]))], signals_pred[sig])\n",
    "plt.xlabel(\"Cycle\")\n",
    "plt.ylabel(\"RUL (in cycles)\")\n",
    "plt.title(\"Comparison of real and predicted RUL\")\n",
    "legend = plt.legend([\"Real RUL\", \"Predicted RUL\"])\n",
    "plt.setp(legend.get_texts(), color='black')\n",
    "plt.show()"
   ]
  },
  {
   "cell_type": "code",
   "execution_count": 39,
   "metadata": {
    "scrolled": true
   },
   "outputs": [
    {
     "data": {
      "image/png": "[encoded data removed]",
      "text/plain": [
       "<Figure size 432x288 with 1 Axes>"
      ]
     },
     "metadata": {
      "needs_background": "dark"
     },
     "output_type": "display_data"
    }
   ],
   "source": [
    "plt.figure()\n",
    "plt.plot(y_test_predict, y_test , \"ro\")\n",
    "plt.xlim(0, 130)\n",
    "plt.ylim(0, 130)\n",
    "plt.xlabel(\"Predicted value\")\n",
    "plt.ylabel(\"Real value (adjusted)\")\n",
    "plt.title(\"Predicted vs. real value\")\n",
    "plt.show()"
   ]
  }
 ],
 "metadata": {
  "kernelspec": {
   "display_name": "Python 3",
   "language": "python",
   "name": "python3"
  },
  "language_info": {
   "codemirror_mode": {
    "name": "ipython",
    "version": 3
   },
   "file_extension": ".py",
   "mimetype": "text/x-python",
   "name": "python",
   "nbconvert_exporter": "python",
   "pygments_lexer": "ipython3",
   "version": "3.8.1"
  }
 },
 "nbformat": 4,
 "nbformat_minor": 4
}
